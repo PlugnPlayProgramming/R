{
  "nbformat": 4,
  "nbformat_minor": 0,
  "metadata": {
    "colab": {
      "name": "1-08장.ipynb",
      "provenance": [],
      "collapsed_sections": [],
      "include_colab_link": true
    },
    "kernelspec": {
      "name": "python3",
      "display_name": "Python 3"
    },
    "language_info": {
      "name": "python"
    }
  },
  "cells": [
    {
      "cell_type": "markdown",
      "metadata": {
        "id": "view-in-github",
        "colab_type": "text"
      },
      "source": [
        "<a href=\"https://colab.research.google.com/github/PlugnPlayProgramming/R/blob/main/1_08%EC%9E%A5.ipynb\" target=\"_parent\"><img src=\"https://colab.research.google.com/assets/colab-badge.svg\" alt=\"Open In Colab\"/></a>"
      ]
    },
    {
      "cell_type": "markdown",
      "source": [
        "# 1주차 8장. 조건문의 이해"
      ],
      "metadata": {
        "id": "9oAoDMZn-5sR"
      }
    },
    {
      "cell_type": "code",
      "execution_count": null,
      "metadata": {
        "colab": {
          "base_uri": "https://localhost:8080/"
        },
        "id": "hYz1s03Iqf0H",
        "outputId": "aaa90a1b-37b6-40e6-bf82-33e102fc626d"
      },
      "outputs": [
        {
          "output_type": "stream",
          "name": "stdout",
          "text": [
            "=========================\n",
            "다시 처음부터 시작합니다\n",
            "=========================\n"
          ]
        }
      ],
      "source": [
        "# if문 예제\n",
        "count = 10\n",
        "if count >=10 :\n",
        "\tcount = 0\n",
        "\tprint(\"=\" * 25)\n",
        "\tprint(\"다시 처음부터 시작합니다\")\n",
        "\tprint(\"=\" * 25)"
      ]
    },
    {
      "cell_type": "code",
      "source": [
        "# if~else문 예제\n",
        "count = 10\n",
        "if\tcount >=10 :\n",
        "\tcount = 0\n",
        "\tprint(\"=\" * 25)\n",
        "\tprint(\"다시 처음부터 시작합니다\")\n",
        "\tprint(\"=\" * 25)\n",
        "\n",
        "else :\n",
        "\tcount = count + 1\n",
        "\tprint(\"다음 단계가 실행됩니다\")"
      ],
      "metadata": {
        "colab": {
          "base_uri": "https://localhost:8080/"
        },
        "id": "ipNLPazvsGYr",
        "outputId": "58dff0b9-3d0b-433a-d255-564e066dd37e"
      },
      "execution_count": null,
      "outputs": [
        {
          "output_type": "stream",
          "name": "stdout",
          "text": [
            "=========================\n",
            "다시 처음부터 시작합니다\n",
            "=========================\n"
          ]
        }
      ]
    },
    {
      "cell_type": "code",
      "source": [
        "# 조건문 예제\n",
        "# if 문 예제에서 사용될 변수 \n",
        "a = 4\n",
        "b = 5\n",
        "c = 6\n",
        "\n",
        "# 기본 비교 if a < b :\n",
        "print(\"a is less than b\")\n",
        "\n",
        "if a > b :\n",
        "  print(\"a is greater than b\")\n",
        "\n",
        "if a <= b :\n",
        "  print(\"a is less than or equal to b\") \n",
        "else :\n",
        "  print(\"a is greater than b\")\n",
        "\n",
        "if a == b :\n",
        "  print(\"a is equal to b\") \n",
        "else :\n",
        "  print(\"a and b are not equal\")\n"
      ],
      "metadata": {
        "colab": {
          "base_uri": "https://localhost:8080/"
        },
        "id": "brfnZndkrEEY",
        "outputId": "92d00cde-dd14-41a6-da22-0e255d09e65f"
      },
      "execution_count": null,
      "outputs": [
        {
          "output_type": "stream",
          "name": "stdout",
          "text": [
            "a is less than b\n",
            "a is less than or equal to b\n",
            "a and b are not equal\n"
          ]
        }
      ]
    },
    {
      "cell_type": "code",
      "source": [
        "# if~else문\n",
        "x = 5\n",
        "y = 10\n",
        "\n",
        "if x < y :\n",
        "  print( x, \"is less than\", y) \n",
        "elif x > y :\n",
        "  print( x, \"is greater than\", y) \n",
        "else :\n",
        "  print( x, \"and\", y, \"is equal to\")"
      ],
      "metadata": {
        "colab": {
          "base_uri": "https://localhost:8080/"
        },
        "id": "hRPBKK5Gs3e6",
        "outputId": "648945d5-47c1-450a-e63d-9463df1cc599"
      },
      "execution_count": null,
      "outputs": [
        {
          "output_type": "stream",
          "name": "stdout",
          "text": [
            "5 is less than 10\n"
          ]
        }
      ]
    },
    {
      "cell_type": "code",
      "source": [
        "# if~else문 예제1\n",
        "# 성적 입력 \n",
        "score = 75\n",
        "\n",
        "if score >= 90 :\n",
        "  print(\"Your grade is A\")\n",
        "elif score >=75: \n",
        "  print(\"Your grade is B\")\n",
        "elif score >=60: \n",
        "  print(\"Your grade is C\")\n",
        "else:\n",
        "  print(\"Your grade is F\")"
      ],
      "metadata": {
        "colab": {
          "base_uri": "https://localhost:8080/"
        },
        "id": "J0bDQk5UuOMN",
        "outputId": "e82840e5-e36f-4154-b4b6-685becbf0c88"
      },
      "execution_count": null,
      "outputs": [
        {
          "output_type": "stream",
          "name": "stdout",
          "text": [
            "Your grade is B\n"
          ]
        }
      ]
    },
    {
      "cell_type": "code",
      "source": [
        "# if~else문 예제2\n",
        "# brokers commission\n",
        "amount= int(input(\"Enter your transaction amount : \"))\n",
        "\n",
        "if amount > 1000000 : \n",
        "  comm = amount * 0.5\n",
        "elif amount > 500000 : \n",
        "  comm = amount * 0.7\n",
        "elif amount > 200000 : \n",
        "  comm = amount * 1.0\n",
        "else :\n",
        "  comm = 15000\n",
        "  \n",
        "print(\"Transaction amount = \", amount, \"and commission = \", comm)"
      ],
      "metadata": {
        "colab": {
          "base_uri": "https://localhost:8080/"
        },
        "id": "mBj_6X9lvE0y",
        "outputId": "e46ce0ba-2999-40ed-c9c1-a0d920b7402b"
      },
      "execution_count": null,
      "outputs": [
        {
          "output_type": "stream",
          "name": "stdout",
          "text": [
            "Enter your transaction amount : 600000\n",
            "Transaction amount =  600000 and commission =  420000.0\n"
          ]
        }
      ]
    },
    {
      "cell_type": "code",
      "source": [
        "# if~else문 예제3\n",
        "# Fruits lists\n",
        "fruits = ['apple', 'banana', 'grape', 'orange', 'strawberry'] \n",
        "fruit_input = input(\"좋아하시는 과일을 입력하세요 : \")\n",
        "\n",
        "if fruit_input in fruits : \n",
        "  print(\"과일이 목록에 있습니다.\")\n",
        "elif fruit_input == \"없음\" :\n",
        "  print(\"좋아하는 과일이 없습니다.\")\n",
        "else :\n",
        "  print(\"과일이 목록에 없습니다.\")"
      ],
      "metadata": {
        "colab": {
          "base_uri": "https://localhost:8080/"
        },
        "id": "E8VIzcNqqW12",
        "outputId": "7ec05edf-1937-4664-9f62-88bfb9953107"
      },
      "execution_count": null,
      "outputs": [
        {
          "output_type": "stream",
          "name": "stdout",
          "text": [
            "좋아하시는 과일을 입력하세요 : banana\n",
            "과일이 목록에 있습니다.\n"
          ]
        }
      ]
    },
    {
      "cell_type": "code",
      "source": [
        "# 연습문제 1-코드\n",
        "temperature = int(input(\"현재 기온은 몇 도 입니까 \"))\n",
        "if temperature >= 35 :\n",
        "  print(\"오늘은 날씨가 매우 덥습니다.\") \n",
        "elif temperature >= 30 :\n",
        "  print(\"오늘은 날씨가 덥습니다.\")"
      ],
      "metadata": {
        "colab": {
          "base_uri": "https://localhost:8080/"
        },
        "id": "u85JD5qSsqeb",
        "outputId": "22435005-0c78-4dc7-8c11-c066c615c665"
      },
      "execution_count": null,
      "outputs": [
        {
          "output_type": "stream",
          "name": "stdout",
          "text": [
            "현재 기온은 몇 도 입니까 35\n",
            "오늘은 날씨가 매우 덥습니다.\n"
          ]
        }
      ]
    }
  ]
}