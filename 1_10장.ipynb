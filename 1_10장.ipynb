{
  "nbformat": 4,
  "nbformat_minor": 0,
  "metadata": {
    "colab": {
      "name": "1-10장.ipynb",
      "provenance": [],
      "collapsed_sections": [],
      "include_colab_link": true
    },
    "kernelspec": {
      "name": "python3",
      "display_name": "Python 3"
    },
    "language_info": {
      "name": "python"
    }
  },
  "cells": [
    {
      "cell_type": "markdown",
      "metadata": {
        "id": "view-in-github",
        "colab_type": "text"
      },
      "source": [
        "<a href=\"https://colab.research.google.com/github/PlugnPlayProgramming/R/blob/main/1_10%EC%9E%A5.ipynb\" target=\"_parent\"><img src=\"https://colab.research.google.com/assets/colab-badge.svg\" alt=\"Open In Colab\"/></a>"
      ]
    },
    {
      "cell_type": "markdown",
      "source": [
        "# 1주차 10장. 다중조건문 이해와 활용"
      ],
      "metadata": {
        "id": "9oAoDMZn-5sR"
      }
    },
    {
      "cell_type": "code",
      "execution_count": null,
      "metadata": {
        "colab": {
          "base_uri": "https://localhost:8080/"
        },
        "id": "hYz1s03Iqf0H",
        "outputId": "58d4c5bb-8a7f-4a17-f29c-0daa658e655d"
      },
      "outputs": [
        {
          "output_type": "stream",
          "name": "stdout",
          "text": [
            "a is less than b and c\n",
            "a is less than either a or b (or both)\n",
            "a is true\n"
          ]
        }
      ],
      "source": [
        "# 논리형 활용\n",
        "a = 1\n",
        "b = 2\n",
        "c = 3\n",
        "\n",
        "# And\n",
        "if a < b and a < c :\n",
        "\tprint(\"a is less than b and c\")\n",
        "\n",
        "# Non-exclusive or\n",
        "if a < b or a < c :\n",
        "\tprint(\"a is less than either a or b (or both)\")\n",
        "\n",
        "# Boolean data type. True or False\n",
        "a = True\n",
        "\n",
        "if a :\n",
        "\tprint(\"a is true\")\n",
        "else :\n",
        "\tprint(\"a is false\")"
      ]
    },
    {
      "cell_type": "code",
      "source": [
        "# 입력된 월 확인하기\n",
        "Birthdate = input(\"생년월일을 입력하세요: \")\n",
        "\n",
        "Year = Birthdate[ 0 : 4 ] \n",
        "Month = Birthdate[ 4 : 6 ] \n",
        "Day = Birthdate[ 6 : ]\n",
        "\n",
        "if Month < \"01\" or Month > \"12\" :\n",
        "\tprint(\"월이 잘못 입력 되었습니다. 다시 실행해 주세요!\")\n",
        "if Birthdate > \"20220101\" : \n",
        "\tprint(\"나이를 계산할 수 없습니다\")\n",
        "else:\n",
        "\tage = 2022 - int(Year)\n",
        "\n",
        "if Month > \"04\" : \n",
        "\tage = age - 1\n",
        "\n",
        "print(\"당신의 나이는 \", age, \" 입니다\")"
      ],
      "metadata": {
        "colab": {
          "base_uri": "https://localhost:8080/"
        },
        "id": "ipNLPazvsGYr",
        "outputId": "0f13c3c9-68f4-448e-8736-bdf7daaf8986"
      },
      "execution_count": null,
      "outputs": [
        {
          "output_type": "stream",
          "name": "stdout",
          "text": [
            "생년월일을 입력하세요: 19880511\n",
            "당신의 나이는  33  입니다\n"
          ]
        }
      ]
    },
    {
      "cell_type": "code",
      "source": [
        "# 과락 확인, or\n",
        "Korean = int(input(\"국어점수를 입력하세요: \"))\n",
        "\n",
        "English = int(input(\"영어점수를 입력하세요: \"))\n",
        "Math = int(input(\"수학점수를 입력하세요: \")) \n",
        "History = int(input(\"역사점수를 입력하세요: \"))\n",
        "\n",
        "if Korean < 50 or English < 50 or Math < 50 or History < 50 :\n",
        "  print(\"과락입니다.\")"
      ],
      "metadata": {
        "colab": {
          "base_uri": "https://localhost:8080/"
        },
        "id": "brfnZndkrEEY",
        "outputId": "d3b6dff6-0964-4425-eb5a-e1cc9f9bb937"
      },
      "execution_count": null,
      "outputs": [
        {
          "output_type": "stream",
          "name": "stdout",
          "text": [
            "국어점수를 입력하세요: 80\n",
            "영어점수를 입력하세요: 70\n",
            "수학점수를 입력하세요: 60\n",
            "역사점수를 입력하세요: 45\n",
            "과락입니다.\n"
          ]
        }
      ]
    },
    {
      "cell_type": "code",
      "source": [
        "# 합격 확인, and\n",
        "Korean = int(input(\"국어점수를 입력하세요: \"))\n",
        "English = int(input(\"영어점수를 입력하세요: \"))\n",
        "Math = int(input(\"수학점수를 입력하세요: \")) \n",
        "History = int(input(\"역사점수를 입력하세요: \"))\n",
        "\n",
        "Mean = (Korean + English + Math + History) / 4\n",
        "if Korean >= 50 and English >= 50 and Math >= 50 and History >= 50 and Mean >= 60 : \n",
        "  print(\"합격입니다.\")"
      ],
      "metadata": {
        "colab": {
          "base_uri": "https://localhost:8080/"
        },
        "id": "hRPBKK5Gs3e6",
        "outputId": "9e9a3cf5-3af8-4f29-8ddd-92b30b24a98a"
      },
      "execution_count": null,
      "outputs": [
        {
          "output_type": "stream",
          "name": "stdout",
          "text": [
            "국어점수를 입력하세요: 80\n",
            "영어점수를 입력하세요: 70\n",
            "수학점수를 입력하세요: 50\n",
            "역사점수를 입력하세요: 90\n",
            "합격입니다.\n"
          ]
        }
      ]
    },
    {
      "cell_type": "code",
      "source": [
        "# 연습문제 1.1-답안\n",
        "num=0\n",
        "if num > 0 : \n",
        "  print(num)"
      ],
      "metadata": {
        "id": "J0bDQk5UuOMN"
      },
      "execution_count": null,
      "outputs": []
    },
    {
      "cell_type": "code",
      "source": [
        "# 연습문제 1.2-답안\n",
        "num=0\n",
        "if num > 0 : \n",
        "\tprint(num)\n",
        "else :\n",
        "\tprint(num + 10)"
      ],
      "metadata": {
        "colab": {
          "base_uri": "https://localhost:8080/"
        },
        "id": "L_3FaqEg8-ua",
        "outputId": "019f7be6-43c3-44d8-d80e-1bce1ec68baa"
      },
      "execution_count": null,
      "outputs": [
        {
          "output_type": "stream",
          "name": "stdout",
          "text": [
            "10\n"
          ]
        }
      ]
    },
    {
      "cell_type": "code",
      "source": [
        "# 연습문제 1.3-답안\n",
        "num=0\n",
        "if num == 10 :\n",
        "\tnum = 1"
      ],
      "metadata": {
        "id": "mBj_6X9lvE0y"
      },
      "execution_count": null,
      "outputs": []
    },
    {
      "cell_type": "code",
      "source": [
        "# 연습문제 1.4-답안\n",
        "num = input(\"정수를 입력하세요 : \") \n",
        "s = int(num) ** 2\n",
        "print(s)"
      ],
      "metadata": {
        "colab": {
          "base_uri": "https://localhost:8080/"
        },
        "id": "9-bPJqA__3nC",
        "outputId": "f50f456e-bdf4-4411-d6b9-35276b3745b5"
      },
      "execution_count": null,
      "outputs": [
        {
          "output_type": "stream",
          "name": "stdout",
          "text": [
            "정수를 입력하세요 : 2\n",
            "4\n"
          ]
        }
      ]
    },
    {
      "cell_type": "code",
      "source": [
        "# 연습문제 1.5-답안\n",
        "score = 70\n",
        "grade=\"F\"\n",
        "\n",
        "if score >= 90 :\n",
        "  grade = \"A\"\n",
        "elif score >= 80 : \n",
        "\tgrade = \"B\"\n",
        "elif score >= 70 : \n",
        "\tgrade = \"C\"\n",
        "else :\n",
        "\tgrade = \"D\"\n",
        "\n",
        "print(grade)"
      ],
      "metadata": {
        "colab": {
          "base_uri": "https://localhost:8080/"
        },
        "id": "dsIMDHO6_9of",
        "outputId": "546904ea-c524-45ea-b487-f2fe73c2c53b"
      },
      "execution_count": null,
      "outputs": [
        {
          "output_type": "stream",
          "name": "stdout",
          "text": [
            "C\n"
          ]
        }
      ]
    },
    {
      "cell_type": "code",
      "source": [
        "# 연습문제 2-답안\n",
        "i = 1\n",
        "j = -1\n",
        "\n",
        "if i < -j : \n",
        "  print(i)\n",
        "else :\n",
        "  print(j)"
      ],
      "metadata": {
        "colab": {
          "base_uri": "https://localhost:8080/"
        },
        "id": "lia7n1jzAORm",
        "outputId": "809d70b5-42af-43e2-88c9-53f883291b89"
      },
      "execution_count": null,
      "outputs": [
        {
          "output_type": "stream",
          "name": "stdout",
          "text": [
            "-1\n"
          ]
        }
      ]
    },
    {
      "cell_type": "code",
      "source": [
        "# 연습문제 3-답안\n",
        "i = 1\n",
        "j = -1\n",
        "k = 0\n",
        "\n",
        "if i <= -j and j < k: \n",
        "\tprint(i)\n",
        "elif j >= k : \n",
        "\tprint(j)\n",
        "else :\n",
        "\tprint(k)"
      ],
      "metadata": {
        "colab": {
          "base_uri": "https://localhost:8080/"
        },
        "id": "jCcb2V3ZASW_",
        "outputId": "92460af9-0f9a-4ab8-960b-750218c76cf1"
      },
      "execution_count": null,
      "outputs": [
        {
          "output_type": "stream",
          "name": "stdout",
          "text": [
            "1\n"
          ]
        }
      ]
    },
    {
      "cell_type": "code",
      "source": [
        "# 연습문제 4-답안\n",
        "s1 = \"ab\"\n",
        "s2 = \"abc\"\n",
        "s3 = \"bc\"\n",
        "\n",
        "if s1 < s2 :\n",
        "\tprint(\"s1: \", s1)\n",
        "\n",
        "if s1 < s3 : \n",
        "\tprint(\"s1: \", s1)\n",
        "\n",
        "if s2 < s3 : \n",
        "\tprint(\"s2: \", s2)"
      ],
      "metadata": {
        "colab": {
          "base_uri": "https://localhost:8080/"
        },
        "id": "DfEFaDLsAb3U",
        "outputId": "f587affb-47bf-4e52-d795-92939dab06f7"
      },
      "execution_count": null,
      "outputs": [
        {
          "output_type": "stream",
          "name": "stdout",
          "text": [
            "s1:  ab\n",
            "s1:  ab\n",
            "s2:  abc\n"
          ]
        }
      ]
    },
    {
      "cell_type": "code",
      "source": [
        "# 연습문제 5-코드\n",
        "Korean = int(input(\"국어성적: \"))\n",
        "English = int(input(\"영어성적: \"))\n",
        "Math = int(input(\"수학성적: \"))\n",
        "\n",
        "Mean = (Korean + English + Math) / 3\n",
        "if Korean < 50 or English < 50 or Math < 50 :\n",
        "\tprint(\"과락\")\n",
        "elif Mean >= 60 : \n",
        "\tprint(\"합격\")\n",
        "else :\n",
        "\tprint(\"불합격\")"
      ],
      "metadata": {
        "colab": {
          "base_uri": "https://localhost:8080/"
        },
        "id": "uyas99lJAfVK",
        "outputId": "be70339d-c2b4-4114-f5ab-8f8bc522846c"
      },
      "execution_count": null,
      "outputs": [
        {
          "output_type": "stream",
          "name": "stdout",
          "text": [
            "국어성적: 48\n",
            "영어성적: 89\n",
            "수학성적: 74\n",
            "과락\n"
          ]
        }
      ]
    },
    {
      "cell_type": "code",
      "source": [
        "# 연습문제 6-코드\n",
        "mon = int(input(\"월을 입력하세요 : \"))\n",
        "\n",
        "if mon==1 or mon==3 or mon==5 or mon==7 or mon==8 or mon==10 or mon==12 :\n",
        "\tprint(\"31일 까지\")\n",
        "elif mon==2 :\n",
        "\tprint(\"28일 또는 29일까지\")\n",
        "elif mon==4 or mon==6 or mon==9 or mon==11 :\n",
        "\tprint(\"30일 까지\")\n",
        "else :\n",
        "\tprint(\"입력 오류\")\n",
        "\n",
        "# 다른 방법(리스트 사용)\n",
        "mon = int(input(\"월을 입력하세요 : \"))\n",
        "\n",
        "if mon in [1,3,5,7,8,10,12] :\n",
        "\tprint(\"31일 까지\")\n",
        "elif mon==2 :\n",
        "\tprint(\"28일 또는 29일까지\")\n",
        "elif mon in [4,6,9,11] :\n",
        "\tprint(\"30일 까지\")\n",
        "else :\n",
        "\tprint(\"입력 오류\")"
      ],
      "metadata": {
        "colab": {
          "base_uri": "https://localhost:8080/"
        },
        "id": "AHOF5koZAj8S",
        "outputId": "2d2e7c49-4bf5-4c32-c515-71662d00991d"
      },
      "execution_count": null,
      "outputs": [
        {
          "output_type": "stream",
          "name": "stdout",
          "text": [
            "월을 입력하세요 : 12\n",
            "31일 까지\n",
            "월을 입력하세요 : 12\n",
            "31일 까지\n"
          ]
        }
      ]
    },
    {
      "cell_type": "code",
      "source": [
        "# 연습문제 7-코드\n",
        "season = input(\"계절을 입력하세요: \")\n",
        "temp = int(input(\"실내 온도를 입력하세요: \"))\n",
        "\n",
        "if season==\"겨울\":\n",
        "\tif temp>=20 and temp<=22 : \n",
        "\t\tprint(\"적정 온도입니다\")\n",
        "\telse:\n",
        "\t\tprint(\"적정 온도가 아닙니다\") \n",
        "elif season==\"여름\" :\n",
        "\tif temp>=24 and temp<=26 : \n",
        "\t\tprint(\"적정 온도입니다\")\n",
        "\telse:\n",
        "\t\tprint(\"적정 온도가 아닙니다\")\n",
        "else:\n",
        "\tprint(\"계절은 겨울과 여름만 입력할 수 있습니다\")"
      ],
      "metadata": {
        "colab": {
          "base_uri": "https://localhost:8080/"
        },
        "id": "TE0NhWVbAwAv",
        "outputId": "82fa01a7-36e7-489e-9d1d-a44f8d9d7d9a"
      },
      "execution_count": null,
      "outputs": [
        {
          "output_type": "stream",
          "name": "stdout",
          "text": [
            "계절을 입력하세요: 겨울\n",
            "실내 온도를 입력하세요: 21\n",
            "적정 온도입니다\n"
          ]
        }
      ]
    },
    {
      "cell_type": "code",
      "source": [
        "# 퀴즈 1-코드\n",
        "num = 5\n",
        "if num > 0 :\n",
        "\t\tprint(num)\n",
        "else :\n",
        "\t\tprint(num + 10)"
      ],
      "metadata": {
        "colab": {
          "base_uri": "https://localhost:8080/"
        },
        "id": "oz7UmO7VA2DE",
        "outputId": "f312c041-cd59-4d76-ead5-0cf78731990f"
      },
      "execution_count": null,
      "outputs": [
        {
          "output_type": "stream",
          "name": "stdout",
          "text": [
            "5\n"
          ]
        }
      ]
    }
  ]
}