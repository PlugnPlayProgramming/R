{
  "nbformat": 4,
  "nbformat_minor": 0,
  "metadata": {
    "colab": {
      "name": "1-05장.ipynb",
      "provenance": [],
      "collapsed_sections": [],
      "include_colab_link": true
    },
    "kernelspec": {
      "name": "python3",
      "display_name": "Python 3"
    },
    "language_info": {
      "name": "python"
    }
  },
  "cells": [
    {
      "cell_type": "markdown",
      "metadata": {
        "id": "view-in-github",
        "colab_type": "text"
      },
      "source": [
        "<a href=\"https://colab.research.google.com/github/PlugnPlayProgramming/R/blob/main/1_05%EC%9E%A5.ipynb\" target=\"_parent\"><img src=\"https://colab.research.google.com/assets/colab-badge.svg\" alt=\"Open In Colab\"/></a>"
      ]
    },
    {
      "cell_type": "markdown",
      "source": [
        "# 1주차 5장. 변수 활용하기"
      ],
      "metadata": {
        "id": "9oAoDMZn-5sR"
      }
    },
    {
      "cell_type": "code",
      "execution_count": null,
      "metadata": {
        "colab": {
          "base_uri": "https://localhost:8080/"
        },
        "id": "hYz1s03Iqf0H",
        "outputId": "cc46b809-d550-461a-bed1-6d4b26d0ecb0"
      },
      "outputs": [
        {
          "output_type": "stream",
          "name": "stdout",
          "text": [
            "My name is  Esther , and 19 years old.\n",
            "My name is Esther, and 19years old.\n"
          ]
        }
      ],
      "source": [
        "# 연습문제 1-코드\n",
        "name = 'Esther'\n",
        "age = 19\n",
        "\n",
        "print('My name is ', name, ', and', age, 'years old.')\n",
        "print('My name is ' + name + ', and ' + str(age) + 'years old.')"
      ]
    },
    {
      "cell_type": "code",
      "source": [
        "# 연습문제 2-코드\n",
        "# get name and age from user, and print them\n",
        "\n",
        "name = input('Enter your name : ') \n",
        "age = input('Enter your age : ')\n",
        "\n",
        "print('My name is ', name, ', and', age, 'years old.')\n",
        "print('My name is \\\"', name, '\\\".')"
      ],
      "metadata": {
        "colab": {
          "base_uri": "https://localhost:8080/"
        },
        "id": "ipNLPazvsGYr",
        "outputId": "92d3c422-1727-4db9-d4d5-e5d3e4c321ac"
      },
      "execution_count": null,
      "outputs": [
        {
          "output_type": "stream",
          "name": "stdout",
          "text": [
            "Enter your name : 홍길동\n",
            "Enter your age : 25\n",
            "My name is  홍길동 , and 25 years old.\n",
            "My name is \" 홍길동 \".\n"
          ]
        }
      ]
    },
    {
      "cell_type": "code",
      "source": [
        "# 연습문제 3-코드\n",
        "affiliation = str('DB하이텍')\n",
        "year = '2022'\n",
        "print(\"나는\", year, \"년도에\", affiliation, \"에 입학했습니다.\")"
      ],
      "metadata": {
        "colab": {
          "base_uri": "https://localhost:8080/"
        },
        "id": "brfnZndkrEEY",
        "outputId": "607dd382-ae4c-482b-a753-c0017c3833c3"
      },
      "execution_count": null,
      "outputs": [
        {
          "output_type": "stream",
          "name": "stdout",
          "text": [
            "나는 2022 년도에 DB하이텍 에 입학했습니다.\n"
          ]
        }
      ]
    },
    {
      "cell_type": "code",
      "source": [
        "# 연습문제 4-코드\n",
        "number1 = float(input('첫 번째 실수 입력: ')) \n",
        "number2 = float(input('두 번째 실수 입력: '))\n",
        "\n",
        "print(number1 + number2)"
      ],
      "metadata": {
        "colab": {
          "base_uri": "https://localhost:8080/"
        },
        "id": "hRPBKK5Gs3e6",
        "outputId": "c407819d-281e-4fec-96e1-1ef3513e7ae9"
      },
      "execution_count": null,
      "outputs": [
        {
          "output_type": "stream",
          "name": "stdout",
          "text": [
            "첫 번째 실수 입력: 12.4\n",
            "두 번째 실수 입력: 12.1\n",
            "24.5\n"
          ]
        }
      ]
    },
    {
      "cell_type": "code",
      "source": [
        "# 연습문제 5-코드\n",
        "number = int(input('정수 입력: '))\n",
        "\n",
        "print('*' * number)"
      ],
      "metadata": {
        "colab": {
          "base_uri": "https://localhost:8080/"
        },
        "id": "J0bDQk5UuOMN",
        "outputId": "0be570ed-094a-430a-cbb3-19e6b0b00b66"
      },
      "execution_count": null,
      "outputs": [
        {
          "output_type": "stream",
          "name": "stdout",
          "text": [
            "정수 입력: 12\n",
            "************\n"
          ]
        }
      ]
    },
    {
      "cell_type": "code",
      "source": [
        "# 연습문제 6-코드\n",
        "num = int(input(\"좋아하는 숫자: \")) \n",
        "color = input(\"좋아하는 색깔: \") \n",
        "season = input(\"좋아하는 계절: \")\n",
        "\n",
        "cs = color + season \n",
        "print(num*cs)"
      ],
      "metadata": {
        "colab": {
          "base_uri": "https://localhost:8080/"
        },
        "id": "mBj_6X9lvE0y",
        "outputId": "947dd24c-47ca-4519-e578-bbb36374a0ac"
      },
      "execution_count": null,
      "outputs": [
        {
          "output_type": "stream",
          "name": "stdout",
          "text": [
            "좋아하는 숫자: 3\n",
            "좋아하는 색깔: 초록색\n",
            "좋아하는 계절: 여름\n",
            "초록색여름초록색여름초록색여름\n"
          ]
        }
      ]
    },
    {
      "cell_type": "code",
      "source": [
        "# 퀴즈 2-답안\n",
        "num= input(\"정수를 입력하세요 :\") \n",
        "num = int(num)\n",
        "\n",
        "print(\"=\" * num)"
      ],
      "metadata": {
        "colab": {
          "base_uri": "https://localhost:8080/"
        },
        "id": "E8VIzcNqqW12",
        "outputId": "b0e16c0c-9b02-49fd-9dac-57543eca3686"
      },
      "execution_count": null,
      "outputs": [
        {
          "output_type": "stream",
          "name": "stdout",
          "text": [
            "정수를 입력하세요 :20\n",
            "====================\n"
          ]
        }
      ]
    }
  ]
}