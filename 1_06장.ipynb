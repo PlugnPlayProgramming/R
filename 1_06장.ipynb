{
  "nbformat": 4,
  "nbformat_minor": 0,
  "metadata": {
    "colab": {
      "name": "1-06장.ipynb",
      "provenance": [],
      "collapsed_sections": [],
      "include_colab_link": true
    },
    "kernelspec": {
      "name": "python3",
      "display_name": "Python 3"
    },
    "language_info": {
      "name": "python"
    }
  },
  "cells": [
    {
      "cell_type": "markdown",
      "metadata": {
        "id": "view-in-github",
        "colab_type": "text"
      },
      "source": [
        "<a href=\"https://colab.research.google.com/github/PlugnPlayProgramming/R/blob/main/1_06%EC%9E%A5.ipynb\" target=\"_parent\"><img src=\"https://colab.research.google.com/assets/colab-badge.svg\" alt=\"Open In Colab\"/></a>"
      ]
    },
    {
      "cell_type": "markdown",
      "source": [
        "# 1주차 6장. 연산자의 이해"
      ],
      "metadata": {
        "id": "9oAoDMZn-5sR"
      }
    },
    {
      "cell_type": "code",
      "execution_count": null,
      "metadata": {
        "colab": {
          "base_uri": "https://localhost:8080/"
        },
        "id": "hYz1s03Iqf0H",
        "outputId": "123a517c-9054-48e6-f501-5c30e255091e"
      },
      "outputs": [
        {
          "output_type": "stream",
          "name": "stdout",
          "text": [
            "나의 체중은  75 kg, 키는  1.83 m 입니다.\n",
            "계산한 BMI 지수는   22.395413419331717\n"
          ]
        }
      ],
      "source": [
        "# 산술 연산자 예제-코드\n",
        "weight = 75\n",
        "height= 1.83\n",
        "\n",
        "bmi = weight / (height * height)\n",
        "\n",
        "print(\"나의 체중은 \", weight , \"kg, 키는 \", height , \"m 입니다.\")\n",
        "print(\"계산한 BMI 지수는  \", bmi)"
      ]
    },
    {
      "cell_type": "code",
      "source": [
        "# 관계 연산자 예제-코드\n",
        "weight = 75\n",
        "height= 1.83\n",
        "\n",
        "bmi = weight / (height * height)\n",
        "\n",
        "print(\"나의 체중은 \", weight , \"kg, 키는 \", height , \"m 입니다.\")\n",
        "print(\"계산한 BMI 지수는  \", bmi)\n",
        "\n",
        "if( bmi > 25 ) :\n",
        "\tprint(\"과체중 입니다.\")"
      ],
      "metadata": {
        "colab": {
          "base_uri": "https://localhost:8080/"
        },
        "id": "ipNLPazvsGYr",
        "outputId": "de8b35f5-2472-4267-fb00-aa5e902bddfd"
      },
      "execution_count": null,
      "outputs": [
        {
          "output_type": "stream",
          "name": "stdout",
          "text": [
            "나의 체중은  75 kg, 키는  1.83 m 입니다.\n",
            "계산한 BMI 지수는   22.395413419331717\n"
          ]
        }
      ]
    },
    {
      "cell_type": "code",
      "source": [
        "# 연산자 예제\n",
        "print(1 + 1)\n",
        "\n",
        "print(2 ** 3) \n",
        "\n",
        "print(2 * 3)\n",
        "\n",
        "print(8 % 3)\n",
        "\n",
        "print(8 > 5)\n",
        "\n",
        "print(8 < 5)"
      ],
      "metadata": {
        "colab": {
          "base_uri": "https://localhost:8080/"
        },
        "id": "hRPBKK5Gs3e6",
        "outputId": "11f32cea-16b8-48aa-d998-b56d5a0229f9"
      },
      "execution_count": null,
      "outputs": [
        {
          "output_type": "stream",
          "name": "stdout",
          "text": [
            "2\n",
            "8\n",
            "6\n",
            "2\n",
            "True\n",
            "False\n"
          ]
        }
      ]
    },
    {
      "cell_type": "code",
      "source": [
        "# 연산자 우선순위 예제\n",
        "print(5 + 10 * 15 / 5 - 10)\n",
        "\n",
        "print((5 + 10) * 15 / 5 - 10)\n",
        "\n",
        "print((5 + 10 * 15) / 5 - 10)"
      ],
      "metadata": {
        "colab": {
          "base_uri": "https://localhost:8080/"
        },
        "id": "J0bDQk5UuOMN",
        "outputId": "dd8afee5-3e5d-461c-bb74-cfd3af47c708"
      },
      "execution_count": null,
      "outputs": [
        {
          "output_type": "stream",
          "name": "stdout",
          "text": [
            "25.0\n",
            "35.0\n",
            "21.0\n"
          ]
        }
      ]
    },
    {
      "cell_type": "code",
      "source": [
        "# 실수형 사용 예제 1\n",
        "price = 30.5\n",
        "print(price * 4)\n",
        "\n",
        "price = price + 20\n",
        "print(price)\n",
        "\n",
        "print(price * 10) \n",
        "\n",
        "print(price) "
      ],
      "metadata": {
        "colab": {
          "base_uri": "https://localhost:8080/"
        },
        "id": "mBj_6X9lvE0y",
        "outputId": "cfb67d0c-70e7-4d52-d04e-73beddbe1123"
      },
      "execution_count": null,
      "outputs": [
        {
          "output_type": "stream",
          "name": "stdout",
          "text": [
            "122.0\n",
            "50.5\n",
            "505.0\n",
            "50.5\n"
          ]
        }
      ]
    },
    {
      "cell_type": "code",
      "source": [
        "# 퀴즈 1-답안\n",
        "weight = 75\n",
        "height= 1.83\n",
        "\n",
        "bmi = weight / height * height\n",
        "print(bmi)\n",
        "\n",
        "bmi = weight / (height * height)\n",
        "print(bmi)\n",
        "\n",
        "bmi = weight / height ** 2\n",
        "print(bmi)\n",
        "\n",
        "bmi = weight / (height ** 2)\n",
        "print(bmi)"
      ],
      "metadata": {
        "colab": {
          "base_uri": "https://localhost:8080/"
        },
        "id": "E8VIzcNqqW12",
        "outputId": "f6431b4e-0412-4bff-87d0-672fbb1a7edc"
      },
      "execution_count": null,
      "outputs": [
        {
          "output_type": "stream",
          "name": "stdout",
          "text": [
            "75.0\n",
            "22.395413419331717\n",
            "22.395413419331717\n",
            "22.395413419331717\n"
          ]
        }
      ]
    }
  ]
}