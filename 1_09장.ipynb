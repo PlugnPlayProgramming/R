{
  "nbformat": 4,
  "nbformat_minor": 0,
  "metadata": {
    "colab": {
      "name": "1-09장.ipynb",
      "provenance": [],
      "collapsed_sections": [],
      "include_colab_link": true
    },
    "kernelspec": {
      "name": "python3",
      "display_name": "Python 3"
    },
    "language_info": {
      "name": "python"
    }
  },
  "cells": [
    {
      "cell_type": "markdown",
      "metadata": {
        "id": "view-in-github",
        "colab_type": "text"
      },
      "source": [
        "<a href=\"https://colab.research.google.com/github/PlugnPlayProgramming/R/blob/main/1_09%EC%9E%A5.ipynb\" target=\"_parent\"><img src=\"https://colab.research.google.com/assets/colab-badge.svg\" alt=\"Open In Colab\"/></a>"
      ]
    },
    {
      "cell_type": "markdown",
      "source": [
        "# 1주차 9장. 조건문의 활용"
      ],
      "metadata": {
        "id": "9oAoDMZn-5sR"
      }
    },
    {
      "cell_type": "code",
      "execution_count": null,
      "metadata": {
        "colab": {
          "base_uri": "https://localhost:8080/"
        },
        "id": "hYz1s03Iqf0H",
        "outputId": "1835e963-224d-47ef-d817-fbab5024e607"
      },
      "outputs": [
        {
          "output_type": "stream",
          "name": "stdout",
          "text": [
            "국어성적 입력 : 90\n",
            "영어성적 입력 : 96\n",
            "수학성적 입력 : 90\n",
            "성적 평균은  92.0 이며, 합격입니다\n"
          ]
        }
      ],
      "source": [
        "# 연습문제 1-코드\n",
        "## 3개과목 평균으로 합격여부 확인\n",
        "\n",
        "kor = float(input(\"국어성적 입력 : \")) \n",
        "eng = float(input(\"영어성적 입력 : \")) \n",
        "math = float(input(\"수학성적 입력 : \"))\n",
        "\n",
        "avg = (kor + eng + math) / 3\n",
        "\n",
        "if avg >= 60:\n",
        "  print(\"성적 평균은 \", avg, \"이며, 합격입니다\") \n",
        "else:\n",
        "  print(\"성적 평균은 \", avg, \"이며, 불합격입니다\")"
      ]
    },
    {
      "cell_type": "code",
      "source": [
        "# 연습문제 2-코드\n",
        "## 3개과목 평균과 과락 확인하여 합격여부 결정-합격조건 확인방법\n",
        "\n",
        "kor = float(input(\"국어성적 입력: \")) \n",
        "eng = float(input(\"영어성적 입력: \")) \n",
        "math = float(input(\"수학성적 입력: \"))\n",
        "\n",
        "avg = (kor + eng + math) / 3\n",
        "\n",
        "if avg >= 60 and kor >= 50 and eng >= 50 and math >= 50 : \n",
        "  print(\"성적 평균은 \", avg, \"이며, 과락과목도 없기 때문에 합격입니다\")\n",
        "else:\n",
        "  if avg >= 60 :\n",
        "    print(\"성적 평균은 \", avg, \"이지만 50점 미만 과락이 있어서, 불합격입니다\")\n",
        "  else:\n",
        "    print(\"성적 평균은 \", avg, \"이며, 불합격입니다\")\n",
        "\n",
        "## 3개과목 평균과 과락 확인하여 합격여부 결정-합격조건 확인방법2\n",
        "kor = float(input(\"국어성적 입력: \")) \n",
        "eng = float(input(\"영어성적 입력: \")) \n",
        "math = float(input(\"수학성적 입력: \"))\n",
        "\n",
        "avg = (kor + eng + math) / 3\n",
        "\n",
        "if avg >= 60:\n",
        "  if kor < 50 or eng < 50 or math < 50:\n",
        "    print(\"성적 평균은 \", avg, \"이지만 50점 미만 과락이 있어서, 불합격입니다\")\n",
        "  else:\n",
        "    print(\"성적 평균은 \", avg, \"이며, 과락과목도 없기 때문에 합격입니다\")\n",
        "else:\n",
        "  print(\"성적 평균은 \", avg, \"이며, 불합격입니다\")"
      ],
      "metadata": {
        "colab": {
          "base_uri": "https://localhost:8080/"
        },
        "id": "ipNLPazvsGYr",
        "outputId": "3c1cde6e-347a-4897-9e97-30f4e79c9a2c"
      },
      "execution_count": null,
      "outputs": [
        {
          "output_type": "stream",
          "name": "stdout",
          "text": [
            "국어성적 입력: 75\n",
            "영어성적 입력: 75\n",
            "수학성적 입력: 45\n",
            "성적 평균은  65.0 이지만 50점 미만 과락이 있어서, 불합격입니다\n",
            "국어성적 입력: 75\n",
            "영어성적 입력: 75\n",
            "수학성적 입력: 45\n",
            "성적 평균은  65.0 이지만 50점 미만 과락이 있어서, 불합격입니다\n"
          ]
        }
      ]
    },
    {
      "cell_type": "code",
      "source": [
        "# 연습문제 3-코드\n",
        "## BMI 지수 계산하여 결과 알려주기\n",
        "height = float(input(\"키를 m 단위로 입력해 주세요: \"))\n",
        "weight = float(input(\"몸무게를 kg 단위로 입력해 주세요: \"))\n",
        "bmi = weight / (height * height) \n",
        "if bmi < 18.5:\n",
        "  print(\"BMI 지수는 \", bmi, \"이며, 저체중 상태입니다\")\n",
        "elif bmi < 23:\n",
        "  print(\"BMI 지수는 \", bmi, \"이며, 정상 상태입니다\") \n",
        "elif bmi < 25:\n",
        "  print(\"BMI 지수는 \", bmi, \"이며, 과체중 상태입니다\") \n",
        "elif bmi < 30:\n",
        "  print(\"BMI 지수는 \", bmi, \"이며, 비만1 상태입니다\")\n",
        "elif bmi < 40:\n",
        "  print(\"BMI 지수는 \", bmi, \"이며, 비만2 상태입니다\") \n",
        "else:\n",
        "  print(\"BMI 지수는 \", bmi, \"이며, 심각한비만3 상태입니다\")"
      ],
      "metadata": {
        "colab": {
          "base_uri": "https://localhost:8080/"
        },
        "id": "brfnZndkrEEY",
        "outputId": "c0e07d14-df88-436e-f9c9-9b9b68b5baff"
      },
      "execution_count": null,
      "outputs": [
        {
          "output_type": "stream",
          "name": "stdout",
          "text": [
            "키를 m 단위로 입력해 주세요: 1.7\n",
            "몸무게를 kg 단위로 입력해 주세요: 75\n",
            "BMI 지수는  25.95155709342561 이며, 비만1 상태입니다\n"
          ]
        }
      ]
    },
    {
      "cell_type": "code",
      "source": [
        "# 연습문제 4-코드\n",
        "## 학점 부여하기\n",
        "\n",
        "score = input(\"input your score: \") \n",
        "score = int(score)\n",
        "\n",
        "if score >= 80 : \n",
        "  grade = \"A\"\n",
        "elif score >= 60 : \n",
        "  grade = \"B\"\n",
        "elif score >= 50 : \n",
        "  grade = \"C\"\n",
        "else :\n",
        "  grade = \"F\"\n",
        "\n",
        "print(\"your score is\", score, \"and then grade is\", grade)"
      ],
      "metadata": {
        "colab": {
          "base_uri": "https://localhost:8080/"
        },
        "id": "hRPBKK5Gs3e6",
        "outputId": "dd2aaca6-3b4c-4b20-b50f-79ebb2933597"
      },
      "execution_count": null,
      "outputs": [
        {
          "output_type": "stream",
          "name": "stdout",
          "text": [
            "input your score: 90\n",
            "your score is 90 and then grade is A\n"
          ]
        }
      ]
    },
    {
      "cell_type": "code",
      "source": [
        "# 연습문제 5-코드\n",
        "n1 = int(input(\"첫번째 정수 입력하세요 : \")) \n",
        "n2 = int(input(\"두번째 정수 입력하세요 : \")) \n",
        "n3 = int(input(\"세번째 정수 입력하세요 : \"))\n",
        "\n",
        "largest = 0\n",
        "\n",
        "if largest < n1 :\n",
        "  largest = n1\n",
        "if largest < n2 : \n",
        "  largest = n2\n",
        "if largest < n3 :\n",
        "  largest = n3\n",
        "\n",
        "print( n1, n2, n3, \"중에 가장 큰 수는\", largest)"
      ],
      "metadata": {
        "colab": {
          "base_uri": "https://localhost:8080/"
        },
        "id": "J0bDQk5UuOMN",
        "outputId": "033e41a9-6077-40e1-eedb-01b75f1d07c6"
      },
      "execution_count": null,
      "outputs": [
        {
          "output_type": "stream",
          "name": "stdout",
          "text": [
            "첫번째 정수 입력하세요 : 89\n",
            "두번째 정수 입력하세요 : 56\n",
            "세번째 정수 입력하세요 : 90\n",
            "89 56 90 중에 가장 큰 수는 90\n"
          ]
        }
      ]
    },
    {
      "cell_type": "code",
      "source": [
        "# 연습문제 6-코드\n",
        "Birthdate = input(\"생년월일을 입력하세요 : \")\n",
        "\n",
        "Year = Birthdate[ 0 : 4 ] \n",
        "Month = Birthdate[ 4 : 6 ] \n",
        "Day = Birthdate[ 6 : ]\n",
        "\n",
        "if Birthdate > \"20220101\" : \n",
        "  print(\"나이를 계산할 수 없습니다\")\n",
        "else:\n",
        "  age = 2022 - int(Year)\n",
        "\n",
        "if Month > \"04\" : \n",
        "  age = age - 1\n",
        "\n",
        "print(\"당신의 나이는 \", age, \" 입니다\")"
      ],
      "metadata": {
        "colab": {
          "base_uri": "https://localhost:8080/"
        },
        "id": "L_3FaqEg8-ua",
        "outputId": "602af032-13f8-465f-eb67-184af3fc806b"
      },
      "execution_count": null,
      "outputs": [
        {
          "output_type": "stream",
          "name": "stdout",
          "text": [
            "생년월일을 입력하세요 : 19880502\n",
            "당신의 나이는  33  입니다\n"
          ]
        }
      ]
    },
    {
      "cell_type": "code",
      "source": [
        "# 연습문제 7-코드\n",
        "temp = float(input(\"온도를 입력하세요 : \"))\n",
        "type = input(\"온도의 단위를 입력하세요(섭씨, 화씨) : \")\n",
        "\n",
        "if type == \"섭씨\" :\n",
        "  newTemp = (temp*1.8) + 32\n",
        "  print(type+\" \"+str(temp)+\"도 는 화씨 \"+str(newTemp)+\"도 입니다\") \n",
        "elif type == \"화씨\" :\n",
        "  newTemp = (temp-32)/1.8\n",
        "  print(type+\" \"+str(temp)+\"도 는 섭씨 \"+str(newTemp)+\"도 입니다\")"
      ],
      "metadata": {
        "colab": {
          "base_uri": "https://localhost:8080/"
        },
        "id": "mBj_6X9lvE0y",
        "outputId": "bb149107-4782-43bd-ff13-74448cdb91e5"
      },
      "execution_count": null,
      "outputs": [
        {
          "output_type": "stream",
          "name": "stdout",
          "text": [
            "온도를 입력하세요 : 25\n",
            "온도의 단위를 입력하세요(섭씨, 화씨) : 섭씨\n",
            "섭씨 25.0도 는 화씨 77.0도 입니다\n"
          ]
        }
      ]
    }
  ]
}