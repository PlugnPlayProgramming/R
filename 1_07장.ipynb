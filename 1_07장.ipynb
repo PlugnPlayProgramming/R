{
  "nbformat": 4,
  "nbformat_minor": 0,
  "metadata": {
    "colab": {
      "name": "1-07장.ipynb",
      "provenance": [],
      "collapsed_sections": [],
      "include_colab_link": true
    },
    "kernelspec": {
      "name": "python3",
      "display_name": "Python 3"
    },
    "language_info": {
      "name": "python"
    }
  },
  "cells": [
    {
      "cell_type": "markdown",
      "metadata": {
        "id": "view-in-github",
        "colab_type": "text"
      },
      "source": [
        "<a href=\"https://colab.research.google.com/github/PlugnPlayProgramming/R/blob/main/1_07%EC%9E%A5.ipynb\" target=\"_parent\"><img src=\"https://colab.research.google.com/assets/colab-badge.svg\" alt=\"Open In Colab\"/></a>"
      ]
    },
    {
      "cell_type": "markdown",
      "source": [
        "# 1주차 7장. 입출력문 이해와 활용"
      ],
      "metadata": {
        "id": "9oAoDMZn-5sR"
      }
    },
    {
      "cell_type": "code",
      "execution_count": null,
      "metadata": {
        "colab": {
          "base_uri": "https://localhost:8080/"
        },
        "id": "hYz1s03Iqf0H",
        "outputId": "b42d071f-d32c-4302-8c71-cc148765255f"
      },
      "outputs": [
        {
          "output_type": "stream",
          "name": "stdout",
          "text": [
            "John\n",
            "Hello, John\n",
            "78\n",
            "name score\n",
            "abbaabbaabba\n"
          ]
        }
      ],
      "source": [
        "# 화면으로 출력하기 예제\n",
        "print(\"John\") \n",
        "\n",
        "name = \"John\"\n",
        "print(\"Hello,\" , name) \n",
        "\n",
        "score = 78\n",
        "print(score)\n",
        "\n",
        "print(\"name\" , \"score\") \n",
        "\n",
        "print( \"abba\" * 3)"
      ]
    },
    {
      "cell_type": "code",
      "source": [
        "# 화면으로 출력하기 예제\n",
        "i=100\n",
        "j=3\n",
        "print(i+j)\n",
        "\n",
        "i=i+100\n",
        "print(\"score is \", i)\n",
        "\n",
        "twinkle = '*' \n",
        "print(twinkle * 10)"
      ],
      "metadata": {
        "colab": {
          "base_uri": "https://localhost:8080/"
        },
        "id": "ipNLPazvsGYr",
        "outputId": "46e5a6ad-71c5-4871-e5ec-a41576547a99"
      },
      "execution_count": null,
      "outputs": [
        {
          "output_type": "stream",
          "name": "stdout",
          "text": [
            "103\n",
            "score is  200\n",
            "**********\n"
          ]
        }
      ]
    },
    {
      "cell_type": "code",
      "source": [
        "# 다양한 출력\n",
        "print(5+10*5)\n",
        "\n",
        "print(\"Life is too short, \", \"You need python\")\n",
        "\n",
        "print(\"##\" * 3, \"$$$\" * 2, \"^^^^\") \n",
        "\n",
        "num = 11\n",
        "print(num, num + 2, num * 3)\n",
        "\n",
        "print(\"num = \" , num) \n",
        "\n",
        "print('\"Python is very easy.\" he says.')"
      ],
      "metadata": {
        "colab": {
          "base_uri": "https://localhost:8080/"
        },
        "id": "brfnZndkrEEY",
        "outputId": "0aa1f594-95dd-4c19-a3d8-088c46d550dd"
      },
      "execution_count": null,
      "outputs": [
        {
          "output_type": "stream",
          "name": "stdout",
          "text": [
            "55\n",
            "Life is too short,  You need python\n",
            "###### $$$$$$ ^^^^\n",
            "11 13 33\n",
            "num =  11\n",
            "\"Python is very easy.\" he says.\n"
          ]
        }
      ]
    },
    {
      "cell_type": "code",
      "source": [
        "# 화면에서 입력받기\n",
        "height = input(\"당신의 키는?\")\n",
        "\n",
        "print(\"당신의 키는 \", height, \"입니다.\")"
      ],
      "metadata": {
        "colab": {
          "base_uri": "https://localhost:8080/"
        },
        "id": "hRPBKK5Gs3e6",
        "outputId": "d53f1b2c-48c5-46e3-e22b-3d09fb058925"
      },
      "execution_count": null,
      "outputs": [
        {
          "output_type": "stream",
          "name": "stdout",
          "text": [
            "당신의 키는?170\n",
            "당신의 키는  170 입니다.\n"
          ]
        }
      ]
    },
    {
      "cell_type": "code",
      "source": [
        "# 입력 받은 값을 숫자로 사용할때\n",
        "weight = input(\"당신의 몸무게는 kg 단위로 입력 : \")\n",
        "height = input(\"당신의 키를 m 단위로 입력 : \")\n",
        "weight = float(weight)\n",
        "height = float(height)\n",
        "weight/height*height"
      ],
      "metadata": {
        "colab": {
          "base_uri": "https://localhost:8080/"
        },
        "id": "J0bDQk5UuOMN",
        "outputId": "08fc714e-d534-40f3-f78c-12e53e4836c7"
      },
      "execution_count": null,
      "outputs": [
        {
          "name": "stdout",
          "output_type": "stream",
          "text": [
            "당신의 몸무게는 kg 단위로 입력 : 75\n",
            "당신의 키를 m 단위로 입력 : 1.75\n"
          ]
        },
        {
          "output_type": "execute_result",
          "data": {
            "text/plain": [
              "75.0"
            ]
          },
          "metadata": {},
          "execution_count": 7
        }
      ]
    },
    {
      "cell_type": "code",
      "source": [
        "# 입력 받은 값을 숫자로 사용할때\n",
        "## BMI 계산하기\n",
        "weight=input(\"당신의 몸무게를 kg단위로 입력: \") \n",
        "weight=float(weight)\n",
        "\n",
        "height=input(\"당신의 키를 m단위로 입력: \") \n",
        "height=float(height)\n",
        "\n",
        "bmi = weight / (height * height) \n",
        "print(\"당신의 BMI 수치는 \", bmi, \"입니다.\")\n",
        "\n",
        "## BMI 계산하기(short ver.)\n",
        "weight=float(input(\"당신의 몸무게를 kg단위로 입력: \"))\n",
        "height=float(input(\"당신의 키를 m단위로 입력: \")) \n",
        "\n",
        "bmi = weight / height ** 2 \n",
        "print(\"당신의 BMI 수치는 \", bmi, \"입니다.\") "
      ],
      "metadata": {
        "colab": {
          "base_uri": "https://localhost:8080/"
        },
        "id": "mBj_6X9lvE0y",
        "outputId": "1eaf40c0-eb54-4c4b-fe4e-0449ff914490"
      },
      "execution_count": null,
      "outputs": [
        {
          "output_type": "stream",
          "name": "stdout",
          "text": [
            "당신의 몸무게를 kg단위로 입력: 75\n",
            "당신의 키를 m단위로 입력: 1.75\n",
            "당신의 BMI 수치는  24.489795918367346 입니다.\n",
            "당신의 몸무게를 kg단위로 입력: 75\n",
            "당신의 키를 m단위로 입력: 1.75\n",
            "당신의 BMI 수치는  24.489795918367346 입니다.\n"
          ]
        }
      ]
    },
    {
      "cell_type": "code",
      "source": [
        "# 화면으로부터 입력 받기\n",
        "name = input('Enter your name : ') \n",
        "print(name) \n",
        "\n",
        "age = input('Enter your age : ') \n",
        "print(age) \n",
        "\n",
        "print('My name is ', name, ', and', age, 'years old.') \n",
        "print('My name is \\\"', name, '\\\".') "
      ],
      "metadata": {
        "colab": {
          "base_uri": "https://localhost:8080/"
        },
        "id": "E8VIzcNqqW12",
        "outputId": "8d0b8bf7-a3c3-4cb9-8c00-9be8bcb599f5"
      },
      "execution_count": null,
      "outputs": [
        {
          "output_type": "stream",
          "name": "stdout",
          "text": [
            "Enter your name : Joseph\n",
            "Joseph\n",
            "Enter your age : 17\n",
            "17\n",
            "My name is  Joseph , and 17 years old.\n",
            "My name is \" Joseph \".\n"
          ]
        }
      ]
    },
    {
      "cell_type": "code",
      "source": [
        "# 연습문제 1-코드\n",
        "## 평균 계산하기\n",
        "kor=input(\"당신의 국어 성적은? \") \n",
        "kor=float(kor)\n",
        "\n",
        "eng=input(\"당신의 영어 성적은? \") \n",
        "eng=float(eng)\n",
        "\n",
        "math=input(\"당신의 수학 성적은? \") \n",
        "math=float(math)\n",
        "\n",
        "avg = (kor + eng + math) / 3\n",
        "print(\"3개 과목의 평균은 \", avg, \"입니다.\")"
      ],
      "metadata": {
        "colab": {
          "base_uri": "https://localhost:8080/"
        },
        "id": "u85JD5qSsqeb",
        "outputId": "9bb6423e-b4b5-4d98-94aa-33610fc6d9c9"
      },
      "execution_count": null,
      "outputs": [
        {
          "output_type": "stream",
          "name": "stdout",
          "text": [
            "당신의 국어 성적은? 98\n",
            "당신의 영어 성적은? 95\n",
            "당신의 수학 성적은? 99\n",
            "3개 과목의 평균은  97.33333333333333 입니다.\n"
          ]
        }
      ]
    },
    {
      "cell_type": "code",
      "source": [
        "# 연습문제 2-코드\n",
        "## 이름 나누어서 반복 출력하기\n",
        "\n",
        "name=input(\"이름을 입력하세요: \")\n",
        "\n",
        "print( name[0] * 5 )\n",
        "print( name[1] * 5 ) \n",
        "print( name[2] * 5 )"
      ],
      "metadata": {
        "colab": {
          "base_uri": "https://localhost:8080/"
        },
        "id": "_dvKXAdZv5qL",
        "outputId": "8d942d89-c99a-4c55-a93e-753b76238de8"
      },
      "execution_count": null,
      "outputs": [
        {
          "output_type": "stream",
          "name": "stdout",
          "text": [
            "이름을 입력하세요: 홍길동\n",
            "홍홍홍홍홍\n",
            "길길길길길\n",
            "동동동동동\n"
          ]
        }
      ]
    },
    {
      "cell_type": "code",
      "source": [
        "# 연습문제 3-코드\n",
        "## 이름, 소속기관, 나이 출력하기\n",
        "name=input(\"당신의 이름을 입력하세요 : \") \n",
        "belong=input(\"당신의 소속기관을 입력하세요 : \") \n",
        "birthyear=int(input(\"당신의 출생년도를 입력하세요 :\"))\n",
        "\n",
        "print(\"당신의 이름은 \", name)\n",
        "print( belong, \"에 소속되어 있습니다.\") \n",
        "print(\"당신의 나이는 \", 2022-birthyear, \"세 입니다.\")"
      ],
      "metadata": {
        "colab": {
          "base_uri": "https://localhost:8080/"
        },
        "id": "ste0SvrFxdfZ",
        "outputId": "e044dcd4-59d8-4b75-ea84-e4c1efe3891c"
      },
      "execution_count": null,
      "outputs": [
        {
          "output_type": "stream",
          "name": "stdout",
          "text": [
            "당신의 이름을 입력하세요 : 홍길동\n",
            "당신의 소속기관을 입력하세요 : 한국은행\n",
            "당신의 출생년도를 입력하세요 :1988\n",
            "당신의 이름은  홍길동\n",
            "한국은행 에 소속되어 있습니다.\n",
            "당신의 나이는  34 세 입니다.\n"
          ]
        }
      ]
    },
    {
      "cell_type": "code",
      "source": [
        "# 연습문제 4-코드\n",
        "cost=input(\"상품의 가격을 입력하세요 : \")\n",
        "belong=input(\"구매를 위해 낼 돈의 금액을 입력하세요 : \") \n",
        "rest=int(belong)-int(cost)\n",
        "\n",
        "print(\"상품은 \"+cost+\"원 이고, 잔돈은 \"+str(rest)+\"원 입니다\")"
      ],
      "metadata": {
        "colab": {
          "base_uri": "https://localhost:8080/"
        },
        "id": "P9q48zt_tccS",
        "outputId": "81bd5f5c-60ef-4a83-c0d5-cb999c95f463"
      },
      "execution_count": null,
      "outputs": [
        {
          "output_type": "stream",
          "name": "stdout",
          "text": [
            "상품의 가격을 입력하세요 : 2000\n",
            "구매를 위해 낼 돈의 금액을 입력하세요 : 3000\n",
            "상품은 2000원 이고, 잔돈은 1000원 입니다\n"
          ]
        }
      ]
    },
    {
      "cell_type": "code",
      "source": [
        "# 퀴즈 2-답안\n",
        "# 1번 : 정상\n",
        "name = input('Enter your name : ')\n",
        "print(name * 2)\n",
        "\n",
        "# 2번 : 오류\n",
        "# int()로 변환\n",
        "age = int(input('Enter your age : '))\n",
        "print(age + 30)\n",
        "\n",
        "# 3번 : 정상\n",
        "weight=float(input(\"당신의 몸무게를 kg단위로 입력 : \"))\n",
        "height=float(input(\"당신의 키를 m단위로 입력 : \")) \n",
        "bmi = weight / height ** 2\n",
        "print(bmi)"
      ],
      "metadata": {
        "colab": {
          "base_uri": "https://localhost:8080/"
        },
        "id": "2iOsWj0D45-P",
        "outputId": "4ded4f74-e47b-4f78-a5a1-095fa9a0796c"
      },
      "execution_count": null,
      "outputs": [
        {
          "output_type": "stream",
          "name": "stdout",
          "text": [
            "Enter your name : 홍길동\n",
            "홍길동홍길동\n",
            "Enter your age : 35\n",
            "65\n",
            "당신의 몸무게를 kg단위로 입력 : 75\n",
            "당신의 키를 m단위로 입력 : 1.75\n",
            "24.489795918367346\n"
          ]
        }
      ]
    }
  ]
}