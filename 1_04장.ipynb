{
  "nbformat": 4,
  "nbformat_minor": 0,
  "metadata": {
    "colab": {
      "name": "1-04장.ipynb",
      "provenance": [],
      "collapsed_sections": [],
      "include_colab_link": true
    },
    "kernelspec": {
      "name": "python3",
      "display_name": "Python 3"
    },
    "language_info": {
      "name": "python"
    }
  },
  "cells": [
    {
      "cell_type": "markdown",
      "metadata": {
        "id": "view-in-github",
        "colab_type": "text"
      },
      "source": [
        "<a href=\"https://colab.research.google.com/github/PlugnPlayProgramming/R/blob/main/1_04%EC%9E%A5.ipynb\" target=\"_parent\"><img src=\"https://colab.research.google.com/assets/colab-badge.svg\" alt=\"Open In Colab\"/></a>"
      ]
    },
    {
      "cell_type": "markdown",
      "source": [
        "# 1주차 4장. 변수와 메모리 할당"
      ],
      "metadata": {
        "id": "9oAoDMZn-5sR"
      }
    },
    {
      "cell_type": "code",
      "execution_count": null,
      "metadata": {
        "colab": {
          "base_uri": "https://localhost:8080/"
        },
        "id": "hYz1s03Iqf0H",
        "outputId": "2a681996-dd72-4ff0-b09e-d31cf8ae7110"
      },
      "outputs": [
        {
          "output_type": "stream",
          "name": "stdout",
          "text": [
            "100\n",
            "fred\n",
            "200\n"
          ]
        }
      ],
      "source": [
        "# 변수 사용예제 1\n",
        "fred = 100\n",
        "print(fred)\n",
        "\n",
        "print('fred') \n",
        "\n",
        "fred = 200\n",
        "print(fred) "
      ]
    },
    {
      "cell_type": "code",
      "source": [
        "# 변수 사용예제 2\n",
        "value = 100\n",
        "num_coins = 15\n",
        "print(num_coins * value)\n",
        "\n",
        "print(15 * 100)\n",
        "\n",
        "print(15 * value)"
      ],
      "metadata": {
        "colab": {
          "base_uri": "https://localhost:8080/"
        },
        "id": "ipNLPazvsGYr",
        "outputId": "8fb309df-f13a-4a52-dce5-121ee12a7b10"
      },
      "execution_count": null,
      "outputs": [
        {
          "output_type": "stream",
          "name": "stdout",
          "text": [
            "1500\n",
            "1500\n",
            "1500\n"
          ]
        }
      ]
    },
    {
      "cell_type": "code",
      "source": [
        "# 변수 사용예제 3\n",
        "message = \"John\"\n",
        "print(message) \n",
        "\n",
        "print(\"Hello!\", \"John\") \n",
        "\n",
        "score = 78\n",
        "print(message, score)\n",
        "\n",
        "print(\"message\", \"score\") \n",
        "\n",
        "print( \"abba\" * 3)"
      ],
      "metadata": {
        "colab": {
          "base_uri": "https://localhost:8080/"
        },
        "id": "brfnZndkrEEY",
        "outputId": "88172cce-6ba7-42b2-bfc8-88203f162ab8"
      },
      "execution_count": null,
      "outputs": [
        {
          "output_type": "stream",
          "name": "stdout",
          "text": [
            "John\n",
            "Hello! John\n",
            "John 78\n",
            "message score\n",
            "abbaabbaabba\n"
          ]
        }
      ]
    },
    {
      "cell_type": "code",
      "source": [
        "# 정수형 사용 예제 1\n",
        "price = 125\n",
        "print(price * 4)\n",
        "\n",
        "price = price + 25\n",
        "print(price)\n",
        "\n",
        "print(price * 10) \n",
        "\n",
        "print(price) "
      ],
      "metadata": {
        "colab": {
          "base_uri": "https://localhost:8080/"
        },
        "id": "hRPBKK5Gs3e6",
        "outputId": "fc9f038a-15ab-40ff-e63d-0a9ddbbac881"
      },
      "execution_count": null,
      "outputs": [
        {
          "output_type": "stream",
          "name": "stdout",
          "text": [
            "500\n",
            "150\n",
            "1500\n",
            "150\n"
          ]
        }
      ]
    },
    {
      "cell_type": "code",
      "source": [
        "# 정수형 사용 예제 2\n",
        "price = input(\"가격을 입력하세요 : \")\t# input value = 125\n",
        "print(price * 4)\n",
        "\n",
        "price = int(price)\n",
        "print(price)\n",
        "\n",
        "print(price * 4)"
      ],
      "metadata": {
        "colab": {
          "base_uri": "https://localhost:8080/"
        },
        "id": "J0bDQk5UuOMN",
        "outputId": "664c94bb-b18a-40a5-c8c2-25e2e52a0bb3"
      },
      "execution_count": null,
      "outputs": [
        {
          "output_type": "stream",
          "name": "stdout",
          "text": [
            "가격을 입력하세요 : 125\n",
            "125125125125\n",
            "125\n",
            "500\n"
          ]
        }
      ]
    },
    {
      "cell_type": "code",
      "source": [
        "# 실수형 사용 예제 1\n",
        "price = 30.5\n",
        "print(price * 4)\n",
        "\n",
        "price = price + 20\n",
        "print(price)\n",
        "\n",
        "print(price * 10) \n",
        "\n",
        "print(price) "
      ],
      "metadata": {
        "colab": {
          "base_uri": "https://localhost:8080/"
        },
        "id": "mBj_6X9lvE0y",
        "outputId": "51eb26cc-cff9-4cbb-ac51-4ee58c4e16f6"
      },
      "execution_count": null,
      "outputs": [
        {
          "output_type": "stream",
          "name": "stdout",
          "text": [
            "122.0\n",
            "50.5\n",
            "505.0\n",
            "50.5\n"
          ]
        }
      ]
    },
    {
      "cell_type": "code",
      "source": [
        "# 실수형 사용 예제 2\n",
        "price = input(\"가격을 입력하세요 : \")\t# input value = 30.5\n",
        "print(price * 4)\n",
        "\n",
        "price = float(price)\n",
        "print(price) \n",
        "\n",
        "print(price * 4)"
      ],
      "metadata": {
        "colab": {
          "base_uri": "https://localhost:8080/"
        },
        "id": "E8VIzcNqqW12",
        "outputId": "057e39b4-6723-4481-c326-7eb733f8d3cc"
      },
      "execution_count": null,
      "outputs": [
        {
          "output_type": "stream",
          "name": "stdout",
          "text": [
            "가격을 입력하세요 : 30.5\n",
            "30.530.530.530.5\n",
            "30.5\n",
            "122.0\n"
          ]
        }
      ]
    },
    {
      "cell_type": "code",
      "source": [
        "# 문자열 사용 예제 1\n",
        "s1 = \"hello\"\n",
        "print(s1)\n",
        "\n",
        "s2 = 'world'\n",
        "print(s2)\n",
        "\n",
        "print(s1+s2)"
      ],
      "metadata": {
        "colab": {
          "base_uri": "https://localhost:8080/"
        },
        "id": "u85JD5qSsqeb",
        "outputId": "91fa09f2-6732-4bb6-92cb-03d4fb75bba8"
      },
      "execution_count": null,
      "outputs": [
        {
          "output_type": "stream",
          "name": "stdout",
          "text": [
            "hello\n",
            "world\n",
            "helloworld\n"
          ]
        }
      ]
    },
    {
      "cell_type": "code",
      "source": [
        "# 문자열 사용 예제 2\n",
        "s1 = 'The Brave'\n",
        "print(s1)\n",
        "\n",
        "s2 = 'The Beauty'\n",
        "s3 = s1 + 'gets' + s2\n",
        "print(s3)\n",
        "\n",
        "print(s3[4:9])"
      ],
      "metadata": {
        "colab": {
          "base_uri": "https://localhost:8080/"
        },
        "id": "_dvKXAdZv5qL",
        "outputId": "bb04908e-860f-447c-b8a1-1832db3cdcdf"
      },
      "execution_count": null,
      "outputs": [
        {
          "output_type": "stream",
          "name": "stdout",
          "text": [
            "The Brave\n",
            "The BravegetsThe Beauty\n",
            "Brave\n"
          ]
        }
      ]
    },
    {
      "cell_type": "code",
      "source": [
        "# 리스트 사용 예제\n",
        "fruits = ['apple', 'banana', 'blueberry', 'lime']\n",
        "print(fruits[2])\n",
        "\n",
        "numbers = [ 1, 2, 4, 7, 11, 16, 22, 29 ]\n",
        "print(numbers)"
      ],
      "metadata": {
        "colab": {
          "base_uri": "https://localhost:8080/"
        },
        "id": "ste0SvrFxdfZ",
        "outputId": "eb9c94da-36be-4f34-bc6f-99d2af47622c"
      },
      "execution_count": null,
      "outputs": [
        {
          "output_type": "stream",
          "name": "stdout",
          "text": [
            "blueberry\n",
            "[1, 2, 4, 7, 11, 16, 22, 29]\n"
          ]
        }
      ]
    },
    {
      "cell_type": "code",
      "source": [
        "# 퀴즈 2-답안\n",
        "message = \"John\"\n",
        "print(message)"
      ],
      "metadata": {
        "colab": {
          "base_uri": "https://localhost:8080/"
        },
        "id": "P9q48zt_tccS",
        "outputId": "6f4b1d6f-63b4-4bd6-ef3f-74a9ca2c0307"
      },
      "execution_count": null,
      "outputs": [
        {
          "output_type": "stream",
          "name": "stdout",
          "text": [
            "John\n"
          ]
        }
      ]
    }
  ]
}