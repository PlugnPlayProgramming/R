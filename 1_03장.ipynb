{
  "nbformat": 4,
  "nbformat_minor": 0,
  "metadata": {
    "colab": {
      "name": "1-03장.ipynb",
      "provenance": [],
      "collapsed_sections": [],
      "include_colab_link": true
    },
    "kernelspec": {
      "name": "python3",
      "display_name": "Python 3"
    },
    "language_info": {
      "name": "python"
    }
  },
  "cells": [
    {
      "cell_type": "markdown",
      "metadata": {
        "id": "view-in-github",
        "colab_type": "text"
      },
      "source": [
        "<a href=\"https://colab.research.google.com/github/PlugnPlayProgramming/R/blob/main/1_03%EC%9E%A5.ipynb\" target=\"_parent\"><img src=\"https://colab.research.google.com/assets/colab-badge.svg\" alt=\"Open In Colab\"/></a>"
      ]
    },
    {
      "cell_type": "markdown",
      "source": [
        "# 1주차 3장. 파이썬 연습하기"
      ],
      "metadata": {
        "id": "9oAoDMZn-5sR"
      }
    },
    {
      "cell_type": "code",
      "source": [
        "kiloDriven = input(\"Enter kilmeters driven:\")\n",
        "kiloDriven = float(kiloDriven)\n",
        "\n",
        "literUsed = input(\"Enter liters used:\")\n",
        "literUsed = float(literUsed)\n",
        "\n",
        "kpl = kiloDriven / literUsed\n",
        "print(\"Kilometers per liter:\", kpl)"
      ],
      "metadata": {
        "colab": {
          "base_uri": "https://localhost:8080/"
        },
        "id": "gTfp3MFzBFpd",
        "outputId": "ccdbc2fe-2846-4785-b93c-77645a47c316"
      },
      "execution_count": null,
      "outputs": [
        {
          "output_type": "stream",
          "name": "stdout",
          "text": [
            "Enter kilmeters driven:12\n",
            "Enter liters used:5\n",
            "Kilometers per liter: 2.4\n"
          ]
        }
      ]
    },
    {
      "cell_type": "code",
      "execution_count": null,
      "metadata": {
        "colab": {
          "base_uri": "https://localhost:8080/"
        },
        "id": "hYz1s03Iqf0H",
        "outputId": "01588a4d-266c-4448-a4bd-0b15eee39fd0"
      },
      "outputs": [
        {
          "output_type": "stream",
          "name": "stdout",
          "text": [
            "Hello, Python!!\n"
          ]
        }
      ],
      "source": [
        "print(\"Hello, Python!!\")"
      ]
    },
    {
      "cell_type": "code",
      "source": [
        "# 연습문제 1-코드\n",
        "print(\"한국대학교\")\n",
        "print(\"이종섭\")"
      ],
      "metadata": {
        "colab": {
          "base_uri": "https://localhost:8080/"
        },
        "id": "ipNLPazvsGYr",
        "outputId": "bb3a08ac-c9bc-41e5-fa61-0553a10d9523"
      },
      "execution_count": null,
      "outputs": [
        {
          "output_type": "stream",
          "name": "stdout",
          "text": [
            "한국대학교\n",
            "이종섭\n"
          ]
        }
      ]
    },
    {
      "cell_type": "code",
      "source": [
        "# 연습문제 2-코드\n",
        "print(456+12314)\n",
        "print(56*57)\n",
        "print(153+4564*2)"
      ],
      "metadata": {
        "colab": {
          "base_uri": "https://localhost:8080/"
        },
        "id": "brfnZndkrEEY",
        "outputId": "3d0ed0e9-5d15-449e-8555-94e147e2bc6e"
      },
      "execution_count": null,
      "outputs": [
        {
          "output_type": "stream",
          "name": "stdout",
          "text": [
            "12770\n",
            "3192\n",
            "9281\n"
          ]
        }
      ]
    },
    {
      "cell_type": "code",
      "source": [
        "# 연습문제 3-코드\n",
        "print(\"한국대학교\")\n",
        "print(\"이종섭\")\n",
        "print(456+12314)\n",
        "print(56*57)\n",
        "print(153+4564*2)"
      ],
      "metadata": {
        "colab": {
          "base_uri": "https://localhost:8080/"
        },
        "id": "hRPBKK5Gs3e6",
        "outputId": "42e8414f-f6b8-4d40-c054-9e7ea2a93091"
      },
      "execution_count": null,
      "outputs": [
        {
          "output_type": "stream",
          "name": "stdout",
          "text": [
            "한국대학교\n",
            "이종섭\n",
            "12770\n",
            "3192\n",
            "9281\n"
          ]
        }
      ]
    },
    {
      "cell_type": "code",
      "source": [
        "# Text\n",
        "kiloDriven = input(\"Enter kilometers driven:\")\n",
        "kiloDriven = float(kiloDriven)\n",
        "litersUsed = input(\"Enter liters used:\") \n",
        "litersUsed = float(litersUsed)\n",
        "kpl = kiloDriven / litersUsed\n",
        "print(\"Kilometers per liter:\",kpl)"
      ],
      "metadata": {
        "colab": {
          "base_uri": "https://localhost:8080/"
        },
        "id": "J0bDQk5UuOMN",
        "outputId": "f13080cc-21ba-4935-9bfc-2aedd3710387"
      },
      "execution_count": null,
      "outputs": [
        {
          "output_type": "stream",
          "name": "stdout",
          "text": [
            "Enter kilometers driven:350\n",
            "Enter liters used:31\n",
            "Kilometers per liter: 11.290322580645162\n"
          ]
        }
      ]
    },
    {
      "cell_type": "code",
      "source": [
        "# 연습문제 4-코드\n",
        "age = 25\n",
        "if age > 65 :\n",
        "  print(\"senior\")\n",
        "elif age > 20 :\n",
        "  print(\"adult\")\n",
        "else :\n",
        "\tprint(\"young\")"
      ],
      "metadata": {
        "colab": {
          "base_uri": "https://localhost:8080/"
        },
        "id": "mBj_6X9lvE0y",
        "outputId": "384a924c-4299-4ba3-d513-936fbde4c2cf"
      },
      "execution_count": null,
      "outputs": [
        {
          "output_type": "stream",
          "name": "stdout",
          "text": [
            "adult\n"
          ]
        }
      ]
    },
    {
      "cell_type": "code",
      "source": [
        "# 연습문제 5-코드\n",
        "age = int(input(\"나이를 입력하세요: \"))\n",
        "\n",
        "if age > 65 :\n",
        "\tprint(\"senior\")\n",
        "elif age > 20 :\n",
        "\tprint(\"adult\")\n",
        "else :\n",
        "\tprint(\"young\")"
      ],
      "metadata": {
        "colab": {
          "base_uri": "https://localhost:8080/"
        },
        "id": "E8VIzcNqqW12",
        "outputId": "d4b75c35-6ad2-45f8-aa7e-532e769755ae"
      },
      "execution_count": null,
      "outputs": [
        {
          "output_type": "stream",
          "name": "stdout",
          "text": [
            "나이를 입력하세요: 10\n",
            "young\n"
          ]
        }
      ]
    },
    {
      "cell_type": "code",
      "source": [
        "# 연습문제 6-코드\n",
        "step=0\n",
        "while step < 1000 :\n",
        "    print(step) \n",
        "    step += 100\n"
      ],
      "metadata": {
        "colab": {
          "base_uri": "https://localhost:8080/"
        },
        "id": "_dvKXAdZv5qL",
        "outputId": "8cebb7b5-17da-4ac8-f62c-51b4092786c3"
      },
      "execution_count": null,
      "outputs": [
        {
          "output_type": "stream",
          "name": "stdout",
          "text": [
            "0\n",
            "100\n",
            "200\n",
            "300\n",
            "400\n",
            "500\n",
            "600\n",
            "700\n",
            "800\n",
            "900\n"
          ]
        }
      ]
    },
    {
      "cell_type": "code",
      "source": [
        "# 연습문제 7-코드\n",
        "num = 2\n",
        "for i in range (1, 10) : \n",
        "    print(num, \"X\", i, \"=\", num*i)"
      ],
      "metadata": {
        "colab": {
          "base_uri": "https://localhost:8080/"
        },
        "id": "ste0SvrFxdfZ",
        "outputId": "df842ba4-2911-4858-ca5f-ad22ebb02544"
      },
      "execution_count": null,
      "outputs": [
        {
          "output_type": "stream",
          "name": "stdout",
          "text": [
            "2 X 1 = 2\n",
            "2 X 2 = 4\n",
            "2 X 3 = 6\n",
            "2 X 4 = 8\n",
            "2 X 5 = 10\n",
            "2 X 6 = 12\n",
            "2 X 7 = 14\n",
            "2 X 8 = 16\n",
            "2 X 9 = 18\n"
          ]
        }
      ]
    }
  ]
}